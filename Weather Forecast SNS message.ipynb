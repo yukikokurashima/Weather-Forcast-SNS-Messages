{
 "cells": [
  {
   "cell_type": "code",
   "execution_count": null,
   "metadata": {},
   "outputs": [],
   "source": [
    "#I used Twilio and Open Weather map to create weather forcast SNS message."
   ]
  },
  {
   "cell_type": "code",
   "execution_count": 1,
   "metadata": {},
   "outputs": [
    {
     "name": "stdout",
     "output_type": "stream",
     "text": [
      "The current temperature is:  87.91 F and it is a clear sky\n"
     ]
    }
   ],
   "source": [
    "import requests\n",
    "url='http://api.openweathermap.org/data/2.5/weather?q=New York&units=imperial&appid=2181135e4e21348a27118a4e4b951014'\n",
    "r=requests.get(url)\n",
    "dict1=r.json()\n",
    "temp = dict1['main']['temp']\n",
    "disc=dict1['weather'][0]['description']\n",
    "print('The current temperature is: ', temp, 'F and it is a', disc)"
   ]
  },
  {
   "cell_type": "code",
   "execution_count": null,
   "metadata": {},
   "outputs": [],
   "source": [
    "from twilio.rest import Client\n",
    "\n",
    "\n",
    "# Your Account Sid and Auth Token from twilio.com/console\n",
    "# DANGER! This is insecure. See http://twil.io/secure\n",
    "account_sid = 'AC208731699b36c646fd33c0fae7f0d9dc'\n",
    "auth_token = '4de9ac755afb9697e6079228dc955ce6'\n",
    "client = Client(account_sid, auth_token)\n",
    "\n",
    "message = client.messages \\\n",
    "                .create(\n",
    "                     body='The current temprature in New York is '+str( dict1['main']['temp']) + 'F.' + ' It is a ' + str(dict1['weather'][0]['description']),\n",
    "                     from_='+19798032773',\n",
    "                      to='+12068527622'\n",
    "                 )\n",
    "\n",
    "print(message.sid)"
   ]
  }
 ],
 "metadata": {
  "kernelspec": {
   "display_name": "Python 3",
   "language": "python",
   "name": "python3"
  },
  "language_info": {
   "codemirror_mode": {
    "name": "ipython",
    "version": 3
   },
   "file_extension": ".py",
   "mimetype": "text/x-python",
   "name": "python",
   "nbconvert_exporter": "python",
   "pygments_lexer": "ipython3",
   "version": "3.7.4"
  }
 },
 "nbformat": 4,
 "nbformat_minor": 2
}
